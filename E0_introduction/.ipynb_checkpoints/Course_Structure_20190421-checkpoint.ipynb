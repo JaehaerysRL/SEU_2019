{
 "cells": [
  {
   "cell_type": "markdown",
   "metadata": {},
   "source": [
    "# Digital Urban and Architectural Modeling\n",
    "<hr style=\"height:3px;border:none;color:stillblue;background-color:black;\" />\n",
    "\n",
    "\n",
    "\n",
    "\n",
    "**Nanjing, South East University**\n",
    "\n",
    "**April 2019**\n",
    "\n",
    "\n",
    "[Vahid Moosavi](https://vahidmoosavi.com/)\n",
    "<img style=\"float: left;\" src=\"../Images/ETH_logo.jpg\">\n",
    "<a></a>\n"
   ]
  },
  {
   "cell_type": "markdown",
   "metadata": {},
   "source": [
    "**A bit about me**\n",
    "**Goals for this course**\n",
    "* **Data Literate Architects (long term)** \n",
    "* **Being able to know when and how to use Machine learning techniques.**\n",
    "* **Being able to easily identify, source, collect, curate and use different data sets (mainly in the context of cities)** \n",
    "* **Being able to answer your desing/analysis questions using the so called Big Data in cities**\n",
    "* **Demonstrate these skills in a final data driven urban design/planning/modeling/analysis problem**\n",
    "\n",
    "** Flow of the lectures and interactions **\n",
    "** Introduction to Machine learning and Big Data **\n",
    "** Some of my projects**\n",
    "** Python programming and hacking skills in interaction with data**\n",
    "\n"
   ]
  }
 ],
 "metadata": {
  "kernelspec": {
   "display_name": "Python 3",
   "language": "python",
   "name": "python3"
  },
  "language_info": {
   "codemirror_mode": {
    "name": "ipython",
    "version": 3
   },
   "file_extension": ".py",
   "mimetype": "text/x-python",
   "name": "python",
   "nbconvert_exporter": "python",
   "pygments_lexer": "ipython3",
   "version": "3.6.4"
  }
 },
 "nbformat": 4,
 "nbformat_minor": 2
}
